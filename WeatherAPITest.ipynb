{
 "cells": [
  {
   "cell_type": "code",
   "execution_count": 10,
   "metadata": {},
   "outputs": [],
   "source": [
    "import csv\n",
    "import codecs\n",
    "import urllib.request\n",
    "import sys\n",
    "from urllib.parse import urlparse"
   ]
  },
  {
   "cell_type": "code",
   "execution_count": 28,
   "metadata": {},
   "outputs": [],
   "source": [
    "# This is the core of our weather query URL\n",
    "BaseURL = 'https://weather.visualcrossing.com/VisualCrossingWebServices/rest/services/weatherdata/'"
   ]
  },
  {
   "cell_type": "code",
   "execution_count": 74,
   "metadata": {},
   "outputs": [],
   "source": [
    "# Set up the location parameter for our query\n",
    "QueryLocation = '&location=43.232212,-70.829685' \n",
    "\n",
    "# Set up the query type parameter for our query ('FORECAST' or 'HISTORY')\n",
    "QueryType= 'HISTORY'\n",
    "\n",
    "# Set up the key parameter for our query\n",
    "QueryKey = '&key=3IG6UAJ4EUV8THM9KCEX13TMU'\n",
    "\n",
    "# Set up the date parameters for our query. Used only for historical weather data requests\n",
    "FromDateParam = '2021-3-6'\n",
    "ToDateParam = '2021-3-8'"
   ]
  },
  {
   "cell_type": "code",
   "execution_count": 75,
   "metadata": {},
   "outputs": [
    {
     "name": "stdout",
     "output_type": "stream",
     "text": [
      " - Fetching history for date:  2021-3-6 - 2021-3-8\n"
     ]
    }
   ],
   "source": [
    "# Set up the specific parameters based on the type of query\n",
    "if QueryType == 'FORECAST':\n",
    "    print(' - Fetching forecast data')\n",
    "    QueryTypeParams = 'forecast?&aggregateHours=24&unitGroup=us&shortColumnNames=false'\n",
    "else:\n",
    "    print(' - Fetching history for date: ', FromDateParam,'-',ToDateParam)\n",
    "\n",
    "    # History requests require a date.  We use the same date for start and end since we only want to query a single date in this example\n",
    "    QueryDate = '&startDateTime=' + FromDateParam + 'T00:00:00&endDateTime=' +ToDateParam + 'T00:00:00'\n",
    "    QueryTypeParams = 'history?&aggregateHours=24&unitGroup=us&dayStartTime=0:0:00&dayEndTime=0:0:00' + QueryDate"
   ]
  },
  {
   "cell_type": "code",
   "execution_count": 76,
   "metadata": {},
   "outputs": [
    {
     "name": "stdout",
     "output_type": "stream",
     "text": [
      " - Running query URL:  https://weather.visualcrossing.com/VisualCrossingWebServices/rest/services/weatherdata/history?&aggregateHours=24&unitGroup=us&dayStartTime=0:0:00&dayEndTime=0:0:00&startDateTime=2021-3-6T00:00:00&endDateTime=2021-3-8T00:00:00&location=43.232212,-70.829685&key=3IG6UAJ4EUV8THM9KCEX13TMU\n",
      "\n"
     ]
    }
   ],
   "source": [
    "# Build the entire query\n",
    "URL = BaseURL + QueryTypeParams + QueryLocation + QueryKey\n",
    "\n",
    "print(' - Running query URL: ', URL)\n",
    "print()"
   ]
  },
  {
   "cell_type": "code",
   "execution_count": 77,
   "metadata": {},
   "outputs": [],
   "source": [
    "# Parse the results as CSV\n",
    "CSVBytes = urllib.request.urlopen(URL)\n",
    "CSVText = csv.reader(codecs.iterdecode(CSVBytes, 'utf-8'))"
   ]
  },
  {
   "cell_type": "code",
   "execution_count": 78,
   "metadata": {},
   "outputs": [
    {
     "name": "stdout",
     "output_type": "stream",
     "text": [
      "Weather in  43.232212,-70.829685  on  03/06/2021\n",
      "    Temperature  =  23.2\n",
      "    Dew Point  =  3.7\n",
      "    Relative Humidity  =  42.71\n",
      "    Heat Index  =  \n",
      "    Wind Speed  =  11.1\n",
      "    Wind Gust  =  21.9\n",
      "    Wind Direction  =  297.46\n",
      "    Wind Chill  =  4.0\n",
      "    Precipitation  =  0.0\n",
      "    Precipitation Cover  =  0.0\n",
      "    Snow Depth  =  3.86\n",
      "    Visibility  =  9.9\n",
      "    Cloud Cover  =  15.2\n",
      "    Sea Level Pressure  =  1014.6\n",
      "    Weather Type  =  \n",
      "    Latitude  =  43.232212\n",
      "    Longitude  =  -70.829685\n",
      "    Resolved Address  =  43.232212,-70.829685\n",
      "    Name  =  43.232212,-70.829685\n",
      "    Info  =  \n",
      "    Conditions  =  Clear\n",
      "Weather in  43.232212,-70.829685  on  03/07/2021\n",
      "    Temperature  =  24.7\n",
      "    Dew Point  =  6.1\n",
      "    Relative Humidity  =  45.47\n",
      "    Heat Index  =  \n",
      "    Wind Speed  =  10.3\n",
      "    Wind Gust  =  23.0\n",
      "    Wind Direction  =  298.0\n",
      "    Wind Chill  =  6.8\n",
      "    Precipitation  =  0.0\n",
      "    Precipitation Cover  =  0.0\n",
      "    Snow Depth  =  3.32\n",
      "    Visibility  =  9.9\n",
      "    Cloud Cover  =  2.8\n",
      "    Sea Level Pressure  =  1023.5\n",
      "    Weather Type  =  \n",
      "    Latitude  =  43.232212\n",
      "    Longitude  =  -70.829685\n",
      "    Resolved Address  =  43.232212,-70.829685\n",
      "    Name  =  43.232212,-70.829685\n",
      "    Info  =  \n",
      "    Conditions  =  Clear\n",
      "Weather in  43.232212,-70.829685  on  03/08/2021\n",
      "    Temperature  =  27.6\n",
      "    Dew Point  =  9.1\n",
      "    Relative Humidity  =  47.34\n",
      "    Heat Index  =  \n",
      "    Wind Speed  =  7.5\n",
      "    Wind Gust  =  \n",
      "    Wind Direction  =  223.54\n",
      "    Wind Chill  =  7.8\n",
      "    Precipitation  =  0.0\n",
      "    Precipitation Cover  =  0.0\n",
      "    Snow Depth  =  0.0\n",
      "    Visibility  =  9.9\n",
      "    Cloud Cover  =  15.5\n",
      "    Sea Level Pressure  =  1026.9\n",
      "    Weather Type  =  \n",
      "    Latitude  =  43.232212\n",
      "    Longitude  =  -70.829685\n",
      "    Resolved Address  =  43.232212,-70.829685\n",
      "    Name  =  43.232212,-70.829685\n",
      "    Info  =  \n",
      "    Conditions  =  Clear\n"
     ]
    }
   ],
   "source": [
    "RowIndex = 0\n",
    "\n",
    "# The first row contain the headers and the additional rows each contain the weather metrics for a single day\n",
    "# To simply our code, we use the knowledge that column 0 contains the location and column 1 contains the date.  The data starts at column 4\n",
    "for Row in CSVText:\n",
    "    if RowIndex == 0:\n",
    "        FirstRow = Row\n",
    "    else:\n",
    "        print('Weather in ', Row[0], ' on ', Row[1])\n",
    "\n",
    "        ColIndex = 0\n",
    "        for Col in Row:\n",
    "            if ColIndex >= 4:\n",
    "                print('   ', FirstRow[ColIndex], ' = ', Row[ColIndex])\n",
    "            ColIndex += 1\n",
    "    RowIndex += 1"
   ]
  },
  {
   "cell_type": "code",
   "execution_count": 80,
   "metadata": {},
   "outputs": [],
   "source": [
    "# If there are no CSV rows then something fundamental went wrong\n",
    "if RowIndex == 0:\n",
    "    print('Sorry, but it appears that there was an error connecting to the weather server.')\n",
    "    print('Please check your network connection and try again..')\n",
    "\n",
    "# If there is only one CSV  row then we likely got an error from the server\n",
    "if RowIndex == 1:\n",
    "    print('Sorry, but it appears that there was an error retrieving the weather data.')\n",
    "    print('Error: ', FirstRow)"
   ]
  }
 ],
 "metadata": {
  "kernelspec": {
   "display_name": "Python 3",
   "language": "python",
   "name": "python3"
  },
  "language_info": {
   "codemirror_mode": {
    "name": "ipython",
    "version": 3
   },
   "file_extension": ".py",
   "mimetype": "text/x-python",
   "name": "python",
   "nbconvert_exporter": "python",
   "pygments_lexer": "ipython3",
   "version": "3.8.3"
  }
 },
 "nbformat": 4,
 "nbformat_minor": 4
}

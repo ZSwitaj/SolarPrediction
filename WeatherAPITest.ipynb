{
 "cells": [
  {
   "cell_type": "code",
   "execution_count": 20,
   "metadata": {},
   "outputs": [],
   "source": [
    "import csv\n",
    "import codecs\n",
    "import urllib.request\n",
    "import sys\n",
    "from urllib.parse import urlparse\n",
    "import json\n",
    "import requests"
   ]
  },
  {
   "cell_type": "code",
   "execution_count": 2,
   "metadata": {},
   "outputs": [],
   "source": [
    "# This is the core of our weather query URL\n",
    "BaseURL = 'https://weather.visualcrossing.com/VisualCrossingWebServices/rest/services/weatherdata/'"
   ]
  },
  {
   "cell_type": "code",
   "execution_count": 56,
   "metadata": {},
   "outputs": [],
   "source": [
    "# Set up the location parameter for our query\n",
    "QueryLocation = '&location=43.232212,-70.829685' \n",
    "\n",
    "# Set up the query type parameter for our query ('FORECAST' or 'HISTORY')\n",
    "QueryType= 'HISTORY'\n",
    "\n",
    "# Set up the key parameter for our query\n",
    "QueryKey = '&key=3IG6UAJ4EUV8THM9KCEX13TMU'\n",
    "\n",
    "#Set locations mode\n",
    "locationMode = '&locationMode=single'\n",
    "\n",
    "# Set up the date parameters for our query. Used only for historical weather data requests\n",
    "FromDateParam = '2021-1-6'\n",
    "ToDateParam = '2021-3-8'\n",
    "\n",
    "#Included sections\n",
    "Include = '&include=obs%2Cfcst%2Cstats%2Calerts%2Ccurrent%2Cevents%2Chistfcst'\n",
    "\n",
    "content_type = '&contentType=json'"
   ]
  },
  {
   "cell_type": "code",
   "execution_count": 57,
   "metadata": {},
   "outputs": [
    {
     "name": "stdout",
     "output_type": "stream",
     "text": [
      " - Fetching history for date:  2021-1-6 - 2021-3-8\n"
     ]
    }
   ],
   "source": [
    "# Set up the specific parameters based on the type of query\n",
    "if QueryType == 'FORECAST':\n",
    "    print(' - Fetching forecast data')\n",
    "    QueryTypeParams = 'forecast?&aggregateHours=24&unitGroup=us&shortColumnNames=false'\n",
    "else:\n",
    "    print(' - Fetching history for date: ', FromDateParam,'-',ToDateParam)\n",
    "\n",
    "    # History requests require a date.  We use the same date for start and end since we only want to query a single date in this example\n",
    "    QueryDate = '&startDateTime=' + FromDateParam + 'T00:00:00&endDateTime=' +ToDateParam + 'T00:00:00'\n",
    "    QueryTypeParams = 'history?&aggregateHours=24&unitGroup=us&dayStartTime=0:0:00&dayEndTime=0:0:00' + QueryDate"
   ]
  },
  {
   "cell_type": "code",
   "execution_count": 58,
   "metadata": {},
   "outputs": [
    {
     "name": "stdout",
     "output_type": "stream",
     "text": [
      " - Running query URL:  https://weather.visualcrossing.com/VisualCrossingWebServices/rest/services/weatherdata/history?&aggregateHours=24&unitGroup=us&dayStartTime=0:0:00&dayEndTime=0:0:00&startDateTime=2021-1-6T00:00:00&endDateTime=2021-3-8T00:00:00&contentType=json&location=43.232212,-70.829685&key=3IG6UAJ4EUV8THM9KCEX13TMU&locationMode=single&include=obs%2Cfcst%2Cstats%2Calerts%2Ccurrent%2Cevents%2Chistfcst\n",
      "\n"
     ]
    }
   ],
   "source": [
    "# Build the entire query\n",
    "URL = BaseURL + QueryTypeParams + content_type + QueryLocation + QueryKey + locationMode + Include\n",
    "\n",
    "print(' - Running query URL: ', URL)\n",
    "print()"
   ]
  },
  {
   "cell_type": "code",
   "execution_count": 59,
   "metadata": {},
   "outputs": [],
   "source": [
    "# Parse the results as CSV\n",
    "# CSVBytes = urllib.request.urlopen(URL)\n",
    "# CSVText = csv.reader(codecs.iterdecode(CSVBytes, 'utf-8'))"
   ]
  },
  {
   "cell_type": "code",
   "execution_count": 60,
   "metadata": {},
   "outputs": [],
   "source": [
    "response = requests.get(URL)\n",
    "weatherJSON = json.loads(response.text)"
   ]
  },
  {
   "cell_type": "code",
   "execution_count": 61,
   "metadata": {},
   "outputs": [
    {
     "name": "stdout",
     "output_type": "stream",
     "text": [
      "columns\n",
      "remainingCost\n",
      "queryCost\n",
      "messages\n",
      "location\n"
     ]
    }
   ],
   "source": [
    "for key in weatherJSON:\n",
    "    print(key)"
   ]
  },
  {
   "cell_type": "code",
   "execution_count": 89,
   "metadata": {},
   "outputs": [
    {
     "name": "stdout",
     "output_type": "stream",
     "text": [
      "2021-01-06\n",
      "2021-01-07\n",
      "2021-01-08\n",
      "2021-01-09\n",
      "2021-01-10\n",
      "2021-01-11\n",
      "2021-01-12\n",
      "2021-01-13\n",
      "2021-01-14\n",
      "2021-01-15\n",
      "2021-01-16\n",
      "2021-01-17\n",
      "2021-01-18\n",
      "2021-01-19\n",
      "2021-01-20\n",
      "2021-01-21\n",
      "2021-01-22\n",
      "2021-01-23\n",
      "2021-01-24\n",
      "2021-01-25\n",
      "2021-01-26\n",
      "2021-01-27\n",
      "2021-01-28\n",
      "2021-01-29\n",
      "2021-01-30\n",
      "2021-01-31\n",
      "2021-02-01\n",
      "2021-02-02\n",
      "2021-02-03\n",
      "2021-02-04\n",
      "2021-02-05\n",
      "2021-02-06\n",
      "2021-02-07\n",
      "2021-02-08\n",
      "2021-02-09\n",
      "2021-02-10\n",
      "2021-02-11\n",
      "2021-02-12\n",
      "2021-02-13\n",
      "2021-02-14\n",
      "2021-02-15\n",
      "2021-02-16\n",
      "2021-02-17\n",
      "2021-02-18\n",
      "2021-02-19\n",
      "2021-02-20\n",
      "2021-02-21\n",
      "2021-02-22\n",
      "2021-02-23\n",
      "2021-02-24\n",
      "2021-02-25\n",
      "2021-02-26\n",
      "2021-02-27\n",
      "2021-02-28\n",
      "2021-03-01\n",
      "2021-03-02\n",
      "2021-03-03\n",
      "2021-03-04\n",
      "2021-03-05\n",
      "2021-03-06\n",
      "2021-03-07\n",
      "2021-03-08\n"
     ]
    }
   ],
   "source": [
    "for i in range(len(weatherJSON['location']['values'])):\n",
    "    print((weatherJSON['location']['values'][i]['datetimeStr'])[0:10])\n",
    "    i += 1"
   ]
  },
  {
   "cell_type": "code",
   "execution_count": 14,
   "metadata": {},
   "outputs": [],
   "source": [
    "RowIndex = 0\n",
    "\n",
    "# The first row contain the headers and the additional rows each contain the weather metrics for a single day\n",
    "# To simply our code, we use the knowledge that column 0 contains the location and column 1 contains the date.  The data starts at column 4\n",
    "# for Row in CSVText:\n",
    "#     if RowIndex == 0:\n",
    "#         FirstRow = Row\n",
    "#     else:\n",
    "#         print('Weather in ', Row[0], ' on ', Row[1])\n",
    "\n",
    "#         ColIndex = 0\n",
    "#         for Col in Row:\n",
    "#             if ColIndex >= 4:\n",
    "#                 print('   ', FirstRow[ColIndex], ' = ', Row[ColIndex])\n",
    "#             ColIndex += 1\n",
    "#     RowIndex += 1"
   ]
  },
  {
   "cell_type": "code",
   "execution_count": 15,
   "metadata": {},
   "outputs": [
    {
     "name": "stdout",
     "output_type": "stream",
     "text": [
      "Sorry, but it appears that there was an error retrieving the weather data.\n",
      "Error:  ['{\"columns\":{\"wdir\":{\"id\":\"wdir\"', 'name:\"Wind Direction\"', 'type:2', 'unit:null}', 'latitude:{\"id\":\"latitude\"', 'name:\"Latitude\"', 'type:2', 'unit:null}', 'cloudcover:{\"id\":\"cloudcover\"', 'name:\"Cloud Cover\"', 'type:2', 'unit:\"%\"}', 'mint:{\"id\":\"mint\"', 'name:\"Minimum Temperature\"', 'type:2', 'unit:\"degF\"}', 'datetime:{\"id\":\"datetime\"', 'name:\"Date time\"', 'type:3', 'unit:null}', 'precip:{\"id\":\"precip\"', 'name:\"Precipitation\"', 'type:2', 'unit:\"in\"}', 'solarradiation:{\"id\":\"solarradiation\"', 'name:\"Solar Radiation\"', 'type:2', 'unit:\"W/m^2\"}', 'dew:{\"id\":\"dew\"', 'name:\"Dew Point\"', 'type:2', 'unit:\"degF\"}', 'humidity:{\"id\":\"humidity\"', 'name:\"Relative Humidity\"', 'type:2', 'unit:\"%\"}', 'precipcover:{\"id\":\"precipcover\"', 'name:\"Precipitation Cover\"', 'type:2', 'unit:\"%\"}', 'longitude:{\"id\":\"longitude\"', 'name:\"Longitude\"', 'type:2', 'unit:null}', 'info:{\"id\":\"info\"', 'name:\"Info\"', 'type:1', 'unit:null}', 'temp:{\"id\":\"temp\"', 'name:\"Temperature\"', 'type:2', 'unit:\"degF\"}', 'address:{\"id\":\"address\"', 'name:\"Address\"', 'type:1', 'unit:null}', 'maxt:{\"id\":\"maxt\"', 'name:\"Maximum Temperature\"', 'type:2', 'unit:\"degF\"}', 'visibility:{\"id\":\"visibility\"', 'name:\"Visibility\"', 'type:2', 'unit:\"mi\"}', 'wspd:{\"id\":\"wspd\"', 'name:\"Wind Speed\"', 'type:2', 'unit:\"mph\"}', 'solarenergy:{\"id\":\"solarenergy\"', 'name:\"Solar Energy\"', 'type:2', 'unit:\"J/m^2\"}', 'resolvedAddress:{\"id\":\"resolvedAddress\"', 'name:\"Resolved Address\"', 'type:1', 'unit:null}', 'heatindex:{\"id\":\"heatindex\"', 'name:\"Heat Index\"', 'type:2', 'unit:\"degF\"}', 'weathertype:{\"id\":\"weathertype\"', 'name:\"Weather Type\"', 'type:1', 'unit:null}', 'snowdepth:{\"id\":\"snowdepth\"', 'name:\"Snow Depth\"', 'type:2', 'unit:\"in\"}', 'sealevelpressure:{\"id\":\"sealevelpressure\"', 'name:\"Sea Level Pressure\"', 'type:2', 'unit:\"mb\"}', 'snow:{\"id\":\"snow\"', 'name:\"Snow\"', 'type:2', 'unit:\"in\"}', 'name:{\"id\":\"name\"', 'name:\"Name\"', 'type:1', 'unit:null}', 'wgust:{\"id\":\"wgust\"', 'name:\"Wind Gust\"', 'type:2', 'unit:\"mph\"}', 'conditions:{\"id\":\"conditions\"', 'name:\"Conditions\"', 'type:1', 'unit:null}', 'windchill:{\"id\":\"windchill\"', 'name:\"Wind Chill\"', 'type:2', 'unit:\"degF\"}}', 'remainingCost:0', 'queryCost:62', 'messages:null', 'locations:{\"43.232212', '-70.829685\":{\"stationContributions\":null', 'values:[{\"wdir\":304.67', 'temp:32.4', 'maxt:35.5', 'visibility:9.9', 'wspd:9.2', 'datetimeStr:\"2021-01-06T00:00:00-05:00\"', 'solarenergy:5.2', 'heatindex:null', 'cloudcover:48.5', 'mint:29.6', 'datetime:1609891200000', 'precip:0.0', 'solarradiation:144.7', 'weathertype:\"Snow Showers\"', 'snowdepth:0.39', 'sealevelpressure:1011.2', 'snow:0.05', 'dew:21.9', 'humidity:65.29', 'precipcover:0.0', 'wgust:17.2', 'conditions:\"Snow', ' Partially cloudy\"', 'windchill:23.6', 'info:null}', '{\"wdir\":300.88', 'temp:31.4', 'maxt:36.5', 'visibility:9.9', 'wspd:8.8', 'datetimeStr:\"2021-01-07T00:00:00-05:00\"', 'solarenergy:6.5', 'heatindex:null', 'cloudcover:18.8', 'mint:25.5', 'datetime:1609977600000', 'precip:0.0', 'solarradiation:164.9', 'weathertype:\"\"', 'snowdepth:0.13', 'sealevelpressure:1014.4', 'snow:0.0', 'dew:17.1', 'humidity:55.4', 'precipcover:0.0', 'wgust:18.3', 'conditions:\"Clear\"', 'windchill:18.5', 'info:null}', '{\"wdir\":310.33', 'temp:28.4', 'maxt:35.7', 'visibility:9.9', 'wspd:7.2', 'datetimeStr:\"2021-01-08T00:00:00-05:00\"', 'solarenergy:8.1', 'heatindex:null', 'cloudcover:4.2', 'mint:21.9', 'datetime:1610064000000', 'precip:0.0', 'solarradiation:226.2', 'weathertype:\"\"', 'snowdepth:0.0', 'sealevelpressure:1011.5', 'snow:0.0', 'dew:14.1', 'humidity:55.85', 'precipcover:0.0', 'wgust:null', 'conditions:\"Clear\"', 'windchill:17.2', 'info:null}', '{\"wdir\":318.83', 'temp:28.6', 'maxt:33.3', 'visibility:9.9', 'wspd:8.1', 'datetimeStr:\"2021-01-09T00:00:00-05:00\"', 'solarenergy:5.5', 'heatindex:null', 'cloudcover:36.9', 'mint:20.3', 'datetime:1610150400000', 'precip:0.0', 'solarradiation:152.4', 'weathertype:\"\"', 'snowdepth:0.0', 'sealevelpressure:1010.8', 'snow:0.0', 'dew:16.5', 'humidity:60.58', 'precipcover:0.0', 'wgust:18.3', 'conditions:\"Partially cloudy\"', 'windchill:13.4', 'info:null}', '{\"wdir\":308.33', 'temp:29.2', 'maxt:36.7', 'visibility:9.9', 'wspd:8.3', 'datetimeStr:\"2021-01-10T00:00:00-05:00\"', 'solarenergy:8.6', 'heatindex:null', 'cloudcover:7.3', 'mint:20.7', 'datetime:1610236800000', 'precip:0.0', 'solarradiation:216.1', 'weathertype:\"\"', 'snowdepth:0.0', 'sealevelpressure:1020.3', 'snow:0.0', 'dew:15.7', 'humidity:58.08', 'precipcover:0.0', 'wgust:null', 'conditions:\"Clear\"', 'windchill:16.8', 'info:null}', '{\"wdir\":314.79', 'temp:27.2', 'maxt:33.6', 'visibility:9.9', 'wspd:3.4', 'datetimeStr:\"2021-01-11T00:00:00-05:00\"', 'solarenergy:4.0', 'heatindex:null', 'cloudcover:32.8', 'mint:19.0', 'datetime:1610323200000', 'precip:0.0', 'solarradiation:112.1', 'weathertype:\"\"', 'snowdepth:0.0', 'sealevelpressure:1022.1', 'snow:0.0', 'dew:17.3', 'humidity:66.86', 'precipcover:0.0', 'wgust:null', 'conditions:\"Partially cloudy\"', 'windchill:28.0', 'info:null}', '{\"wdir\":306.0', 'temp:32.3', 'maxt:37.5', 'visibility:9.9', 'wspd:8.0', 'datetimeStr:\"2021-01-12T00:00:00-05:00\"', 'solarenergy:5.1', 'heatindex:null', 'cloudcover:36.9', 'mint:24.7', 'datetime:1610409600000', 'precip:0.0', 'solarradiation:176.6', 'weathertype:\"\"', 'snowdepth:0.0', 'sealevelpressure:1017.0', 'snow:0.0', 'dew:19.7', 'humidity:60.12', 'precipcover:0.0', 'wgust:19.7', 'conditions:\"Partially cloudy\"', 'windchill:21.3', 'info:null}', '{\"wdir\":208.42', 'temp:33.8', 'maxt:36.8', 'visibility:9.9', 'wspd:4.0', 'datetimeStr:\"2021-01-13T00:00:00-05:00\"', 'solarenergy:2.6', 'heatindex:null', 'cloudcover:60.0', 'mint:30.1', 'datetime:1610496000000', 'precip:0.0', 'solarradiation:80.4', 'weathertype:\"\"', 'snowdepth:0.0', 'sealevelpressure:1013.9', 'snow:0.0', 'dew:22.3', 'humidity:62.66', 'precipcover:0.0', 'wgust:null', 'conditions:\"Partially cloudy\"', 'windchill:26.8', 'info:null}', '{\"wdir\":155.96', 'temp:33.6', 'maxt:37.0', 'visibility:9.5', 'wspd:3.1', 'datetimeStr:\"2021-01-14T00:00:00-05:00\"', 'solarenergy:2.1', 'heatindex:null', 'cloudcover:56.1', 'mint:29.2', 'datetime:1610582400000', 'precip:0.0', 'solarradiation:57.1', 'weathertype:\"Mist', ' Light Rain\"', 'snowdepth:0.0', 'sealevelpressure:1011.3', 'snow:0.0', 'dew:25.1', 'humidity:70.91', 'precipcover:0.0', 'wgust:null', 'conditions:\"Partially cloudy\"', 'windchill:31.3', 'info:null}', '{\"wdir\":120.04', 'temp:35.6', 'maxt:39.0', 'visibility:9.5', 'wspd:6.5', 'datetimeStr:\"2021-01-15T00:00:00-05:00\"', 'solarenergy:5.0', 'heatindex:null', 'cloudcover:30.5', 'mint:30.1', 'datetime:1610668800000', 'precip:0.0', 'solarradiation:139.8', 'weathertype:\"Mist', ' Light Rain\"', 'snowdepth:0.0', 'sealevelpressure:1017.2', 'snow:0.0', 'dew:27.0', 'humidity:71.58', 'precipcover:4.17', 'wgust:null', 'conditions:\"Partially cloudy\"', 'windchill:26.0', 'info:null}', '{\"wdir\":143.92', 'temp:41.4', 'maxt:46.7', 'visibility:7.2', 'wspd:16.4', 'datetimeStr:\"2021-01-16T00:00:00-05:00\"', 'solarenergy:0.3', 'heatindex:null', 'cloudcover:57.8', 'mint:35.7', 'datetime:1610755200000', 'precip:1.4', 'solarradiation:9.1', 'weathertype:\"Mist', ' Rain', ' Heavy Rain', ' Light Rain\"', 'snowdepth:0.0', 'sealevelpressure:996.0', 'snow:0.0', 'dew:38.8', 'humidity:90.41', 'precipcover:62.5', 'wgust:35.1', 'conditions:\"Rain', ' Partially cloudy\"', 'windchill:31.1', 'info:null}', '{\"wdir\":249.13', 'temp:37.7', 'maxt:40.5', 'visibility:9.9', 'wspd:10.1', 'datetimeStr:\"2021-01-17T00:00:00-05:00\"', 'solarenergy:4.6', 'heatindex:null', 'cloudcover:47.9', 'mint:34.9', 'datetime:1610841600000', 'precip:0.0', 'solarradiation:115.4', 'weathertype:\"\"', 'snowdepth:0.0', 'sealevelpressure:994.4', 'snow:0.0', 'dew:25.0', 'humidity:60.23', 'precipcover:0.0', 'wgust:34.4', 'conditions:\"Partially cloudy\"', 'windchill:28.5', 'info:null}', '{\"wdir\":282.63', 'temp:34.7', 'maxt:40.1', 'visibility:9.9', 'wspd:9.3', 'datetimeStr:\"2021-01-18T00:00:00-05:00\"', 'solarenergy:3.6', 'heatindex:null', 'cloudcover:33.7', 'mint:25.2', 'datetime:1610928000000', 'precip:0.0', 'solarradiation:91.3', 'weathertype:\"Light Rain\"', 'snowdepth:0.0', 'sealevelpressure:1003.1', 'snow:0.0', 'dew:21.8', 'humidity:59.16', 'precipcover:0.0', 'wgust:25.3', 'conditions:\"Partially cloudy\"', 'windchill:16.7', 'info:null}', '{\"wdir\":296.29', 'temp:28.6', 'maxt:32.4', 'visibility:9.9', 'wspd:8.3', 'datetimeStr:\"2021-01-19T00:00:00-05:00\"', 'solarenergy:5.0', 'heatindex:null', 'cloudcover:29.8', 'mint:23.4', 'datetime:1611014400000', 'precip:0.0', 'solarradiation:125.5', 'weathertype:\"\"', 'snowdepth:0.0', 'sealevelpressure:1013.2', 'snow:0.0', 'dew:12.8', 'humidity:52.1', 'precipcover:0.0', 'wgust:18.7', 'conditions:\"Partially cloudy\"', 'windchill:16.1', 'info:null}', '{\"wdir\":307.46', 'temp:27.6', 'maxt:34.0', 'visibility:9.6', 'wspd:9.1', 'datetimeStr:\"2021-01-20T00:00:00-05:00\"', 'solarenergy:4.9', 'heatindex:null', 'cloudcover:21.4', 'mint:18.4', 'datetime:1611100800000', 'precip:0.0', 'solarradiation:122.9', 'weathertype:\"Light Snow\"', 'snowdepth:0.0', 'sealevelpressure:1011.2', 'snow:0.0', 'dew:14.2', 'humidity:57.29', 'precipcover:0.0', 'wgust:20.8', 'conditions:\"Clear\"', 'windchill:10.7', 'info:null}', '{\"wdir\":158.0', 'temp:23.4', 'maxt:26.2', 'visibility:9.6', 'wspd:6.5', 'datetimeStr:\"2021-01-21T00:00:00-05:00\"', 'solarenergy:4.4', 'heatindex:null', 'cloudcover:45.4', 'mint:17.7', 'datetime:1611187200000', 'precip:0.0', 'solarradiation:110.7', 'weathertype:\"Light Snow', ' Mist\"', 'snowdepth:0.0', 'sealevelpressure:1005.8', 'snow:0.0', 'dew:12.7', 'humidity:63.87', 'precipcover:4.17', 'wgust:null', 'conditions:\"Partially cloudy\"', 'windchill:11.9', 'info:null}', '{\"wdir\":315.13', 'temp:31.4', 'maxt:38.0', 'visibility:9.8', 'wspd:5.2', 'datetimeStr:\"2021-01-22T00:00:00-05:00\"', 'solarenergy:5.0', 'heatindex:null', 'cloudcover:35.2', 'mint:21.6', 'datetime:1611273600000', 'precip:0.0', 'solarradiation:139.8', 'weathertype:\"Light Snow\"', 'snowdepth:0.0', 'sealevelpressure:1003.6', 'snow:0.0', 'dew:21.9', 'humidity:68.61', 'precipcover:4.17', 'wgust:null', 'conditions:\"Partially cloudy\"', 'windchill:23.5', 'info:null}', '{\"wdir\":299.79', 'temp:19.7', 'maxt:27.0', 'visibility:9.9', 'wspd:16.5', 'datetimeStr:\"2021-01-23T00:00:00-05:00\"', 'solarenergy:5.3', 'heatindex:null', 'cloudcover:8.9', 'mint:13.2', 'datetime:1611360000000', 'precip:0.0', 'solarradiation:133.8', 'weathertype:\"\"', 'snowdepth:0.0', 'sealevelpressure:1010.6', 'snow:0.0', 'dew:3.9', 'humidity:49.8', 'precipcover:0.0', 'wgust:35.8', 'conditions:\"Clear\"', 'windchill:-2.2', 'info:null}', '{\"wdir\":292.42', 'temp:19.7', 'maxt:25.2', 'visibility:9.9', 'wspd:17.4', 'datetimeStr:\"2021-01-24T00:00:00-05:00\"', 'solarenergy:5.7', 'heatindex:null', 'cloudcover:1.4', 'mint:13.6', 'datetime:1611446400000', 'precip:0.0', 'solarradiation:144.6', 'weathertype:\"\"', 'snowdepth:0.0', 'sealevelpressure:1011.4', 'snow:0.0', 'dew:2.0', 'humidity:45.94', 'precipcover:0.0', 'wgust:38.0', 'conditions:\"Clear\"', 'windchill:-1.1', 'info:null}', '{\"wdir\":294.25', 'temp:23.7', 'maxt:30.9', 'visibility:9.9', 'wspd:10.2', 'datetimeStr:\"2021-01-25T00:00:00-05:00\"', 'solarenergy:6.4', 'heatindex:null', 'cloudcover:3.2', 'mint:15.6', 'datetime:1611532800000', 'precip:0.0', 'solarradiation:161.5', 'weathertype:\"\"', 'snowdepth:0.0', 'sealevelpressure:1015.9', 'snow:0.0', 'dew:7.0', 'humidity:49.37', 'precipcover:0.0', 'wgust:28.9', 'conditions:\"Clear\"', 'windchill:6.6', 'info:null}', '{\"wdir\":163.58', 'temp:26.3', 'maxt:31.2', 'visibility:8.5', 'wspd:5.2', 'datetimeStr:\"2021-01-26T00:00:00-05:00\"', 'solarenergy:5.0', 'heatindex:null', 'cloudcover:38.8', 'mint:16.1', 'datetime:1611619200000', 'precip:0.06', 'solarradiation:126.3', 'weathertype:\"Light Snow', ' Mist\"', 'snowdepth:0.74', 'sealevelpressure:1016.0', 'snow:0.74', 'dew:15.2', 'humidity:64.07', 'precipcover:33.33', 'wgust:null', 'conditions:\"Snow', ' Partially cloudy\"', 'windchill:12.0', 'info:null}', '{\"wdir\":317.21', 'temp:31.5', 'maxt:34.2', 'visibility:7.0', 'wspd:6.3', 'datetimeStr:\"2021-01-27T00:00:00-05:00\"', 'solarenergy:2.8', 'heatindex:null', 'cloudcover:68.2', 'mint:27.7', 'datetime:1611705600000', 'precip:0.08', 'solarradiation:71.5', 'weathertype:\"Light Snow', ' Mist', ' Light Freezing Drizzle/Freezing Rain', ' Light Freezing Rain\"', 'snowdepth:1.56', 'sealevelpressure:1015.5', 'snow:0.82', 'dew:27.4', 'humidity:84.58', 'precipcover:54.17', 'wgust:null', 'conditions:\"Snow', ' Partially cloudy\"', 'windchill:21.7', 'info:null}', '{\"wdir\":312.46', 'temp:25.1', 'maxt:31.0', 'visibility:6.7', 'wspd:14.0', 'datetimeStr:\"2021-01-28T00:00:00-05:00\"', 'solarenergy:1.4', 'heatindex:null', 'cloudcover:63.2', 'mint:11.5', 'datetime:1611792000000', 'precip:0.05', 'solarradiation:35.4', 'weathertype:\"Mist', ' Light Snow', ' Light Freezing Drizzle/Freezing Rain\"', 'snowdepth:2.23', 'sealevelpressure:1014.2', 'snow:0.67', 'dew:18.4', 'humidity:75.97', 'precipcover:41.67', 'wgust:35.6', 'conditions:\"Snow', ' Partially cloudy\"', 'windchill:-3.4', 'info:null}', '{\"wdir\":307.08', 'temp:11.9', 'maxt:17.1', 'visibility:9.8', 'wspd:16.2', 'datetimeStr:\"2021-01-29T00:00:00-05:00\"', 'solarenergy:4.0', 'heatindex:null', 'cloudcover:37.8', 'mint:8.0', 'datetime:1611878400000', 'precip:0.0', 'solarradiation:101.7', 'weathertype:\"Light Snow\"', 'snowdepth:2.63', 'sealevelpressure:1013.6', 'snow:0.4', 'dew:-2.3', 'humidity:52.44', 'precipcover:0.0', 'wgust:32.0', 'conditions:\"Snow', ' Partially cloudy\"', 'windchill:-8.9', 'info:null}', '{\"wdir\":308.83', 'temp:10.2', 'maxt:15.9', 'visibility:9.9', 'wspd:9.7', 'datetimeStr:\"2021-01-30T00:00:00-05:00\"', 'solarenergy:6.5', 'heatindex:null', 'cloudcover:5.9', 'mint:2.4', 'datetime:1611964800000', 'precip:0.0', 'solarradiation:163.4', 'weathertype:\"\"', 'snowdepth:2.54', 'sealevelpressure:1022.3', 'snow:0.0', 'dew:-3.4', 'humidity:53.89', 'precipcover:0.0', 'wgust:18.3', 'conditions:\"Clear\"', 'windchill:-7.0', 'info:null}', '{\"wdir\":242.08', 'temp:13.0', 'maxt:21.8', 'visibility:9.9', 'wspd:4.0', 'datetimeStr:\"2021-01-31T00:00:00-05:00\"', 'solarenergy:6.8', 'heatindex:null', 'cloudcover:6.5', 'mint:1.6', 'datetime:1612051200000', 'precip:0.0', 'solarradiation:172.4', 'weathertype:\"\"', 'snowdepth:2.33', 'sealevelpressure:1025.9', 'snow:0.0', 'dew:0.1', 'humidity:57.34', 'precipcover:0.0', 'wgust:null', 'conditions:\"Clear\"', 'windchill:-6.8', 'info:null}', '{\"wdir\":87.5', 'temp:23.7', 'maxt:28.9', 'visibility:6.9', 'wspd:14.7', 'datetimeStr:\"2021-02-01T00:00:00-05:00\"', 'solarenergy:1.9', 'heatindex:null', 'cloudcover:53.3', 'mint:12.2', 'datetime:1612137600000', 'precip:0.41', 'solarradiation:47.5', 'weathertype:\"Blowing Or Drifting Snow', ' Ice', ' Heavy Snow', ' Light Snow', ' Mist', ' Fog', ' Snow\"', 'snowdepth:6.97', 'sealevelpressure:1018.9', 'snow:4.73', 'dew:15.2', 'humidity:70.47', 'precipcover:45.83', 'wgust:31.0', 'conditions:\"Snow', ' Partially cloudy\"', 'windchill:3.1', 'info:null}', '{\"wdir\":166.29', 'temp:30.6', 'maxt:32.8', 'visibility:6.1', 'wspd:15.8', 'datetimeStr:\"2021-02-02T00:00:00-05:00\"', 'solarenergy:1.8', 'heatindex:null', 'cloudcover:70.0', 'mint:28.1', 'datetime:1612224000000', 'precip:0.25', 'solarradiation:45.7', 'weathertype:\"Ice', ' Mist', ' Light Snow', ' Rain', ' Light Rain', ' Light Freezing Drizzle/Freezing Rain', ' Light Freezing Rain\"', 'snowdepth:9.79', 'sealevelpressure:997.7', 'snow:2.81', 'dew:25.8', 'humidity:82.1', 'precipcover:66.67', 'wgust:32.7', 'conditions:\"Snow', ' Partially cloudy\"', 'windchill:16.8', 'info:null}', '{\"wdir\":294.67', 'temp:32.5', 'maxt:34.5', 'visibility:9.9', 'wspd:6.7', 'datetimeStr:\"2021-02-03T00:00:00-05:00\"', 'solarenergy:3.1', 'heatindex:null', 'cloudcover:70.0', 'mint:30.5', 'datetime:1612310400000', 'precip:0.0', 'solarradiation:79.1', 'weathertype:\"Light Snow\"', 'snowdepth:9.2', 'sealevelpressure:995.7', 'snow:0.0', 'dew:24.3', 'humidity:71.42', 'precipcover:0.0', 'wgust:null', 'conditions:\"Partially cloudy\"', 'windchill:24.4', 'info:null}', '{\"wdir\":303.67', 'temp:30.4', 'maxt:36.1', 'visibility:9.9', 'wspd:9.2', 'datetimeStr:\"2021-02-04T00:00:00-05:00\"', 'solarenergy:6.4', 'heatindex:null', 'cloudcover:44.8', 'mint:20.0', 'datetime:1612396800000', 'precip:0.0', 'solarradiation:161.5', 'weathertype:\"\"', 'snowdepth:8.55', 'sealevelpressure:1006.3', 'snow:0.0', 'dew:21.3', 'humidity:69.33', 'precipcover:0.0', 'wgust:null', 'conditions:\"Partially cloudy\"', 'windchill:24.8', 'info:null}', '{\"wdir\":193.04', 'temp:27.1', 'maxt:33.5', 'visibility:7.2', 'wspd:3.8', 'datetimeStr:\"2021-02-05T00:00:00-05:00\"', 'solarenergy:2.6', 'heatindex:null', 'cloudcover:45.9', 'mint:18.2', 'datetime:1612483200000', 'precip:0.08', 'solarradiation:65.8', 'weathertype:\"Mist', ' Light Snow', ' Fog', ' Light Rain', ' Snow\"', 'snowdepth:8.14', 'sealevelpressure:1005.7', 'snow:0.16', 'dew:24.6', 'humidity:90.1', 'precipcover:16.67', 'wgust:null', 'conditions:\"Snow', ' Partially cloudy\"', 'windchill:16.0', 'info:null}', '{\"wdir\":262.96', 'temp:30.0', 'maxt:37.2', 'visibility:9.5', 'wspd:7.4', 'datetimeStr:\"2021-02-06T00:00:00-05:00\"', 'solarenergy:9.4', 'heatindex:null', 'cloudcover:20.1', 'mint:22.5', 'datetime:1612569600000', 'precip:0.0', 'solarradiation:236.5', 'weathertype:\"\"', 'snowdepth:8.24', 'sealevelpressure:1013.1', 'snow:0.1', 'dew:13.5', 'humidity:52.53', 'precipcover:0.0', 'wgust:25.3', 'conditions:\"Snow\"', 'windchill:21.0', 'info:null}', '{\"wdir\":306.17', 'temp:24.5', 'maxt:27.1', 'visibility:6.7', 'wspd:11.3', 'datetimeStr:\"2021-02-07T00:00:00-05:00\"', 'solarenergy:2.3', 'heatindex:null', 'cloudcover:42.5', 'mint:19.3', 'datetime:1612656000000', 'precip:0.25', 'solarradiation:57.2', 'weathertype:\"Light Snow', ' Mist', ' Fog', ' Snow\"', 'snowdepth:8.44', 'sealevelpressure:1015.1', 'snow:1.07', 'dew:15.2', 'humidity:68.21', 'precipcover:58.33', 'wgust:null', 'conditions:\"Snow', ' Partially cloudy\"', 'windchill:13.2', 'info:null}', '{\"wdir\":309.88', 'temp:18.9', 'maxt:24.1', 'visibility:9.9', 'wspd:13.3', 'datetimeStr:\"2021-02-08T00:00:00-05:00\"', 'solarenergy:6.2', 'heatindex:null', 'cloudcover:11.2', 'mint:12.0', 'datetime:1612742400000', 'precip:0.0', 'solarradiation:143.3', 'weathertype:\"\"', 'snowdepth:10.12', 'sealevelpressure:1024.9', 'snow:1.68', 'dew:1.5', 'humidity:47.46', 'precipcover:4.17', 'wgust:25.3', 'conditions:\"Snow\"', 'windchill:6.8', 'info:null}', '{\"wdir\":270.88', 'temp:18.6', 'maxt:23.9', 'visibility:6.3', 'wspd:4.8', 'datetimeStr:\"2021-02-09T00:00:00-05:00\"', 'solarenergy:1.7', 'heatindex:null', 'cloudcover:57.1', 'mint:12.3', 'datetime:1612828800000', 'precip:0.09', 'solarradiation:46.7', 'weathertype:\"Light Snow', ' Mist\"', 'snowdepth:10.57', 'sealevelpressure:1024.7', 'snow:0.96', 'dew:13.9', 'humidity:82.23', 'precipcover:54.17', 'wgust:null', 'conditions:\"Snow', ' Partially cloudy\"', 'windchill:5.0', 'info:null}', '{\"wdir\":303.79', 'temp:18.2', 'maxt:26.5', 'visibility:9.9', 'wspd:8.1', 'datetimeStr:\"2021-02-10T00:00:00-05:00\"', 'solarenergy:7.0', 'heatindex:null', 'cloudcover:22.2', 'mint:6.4', 'datetime:1612915200000', 'precip:0.0', 'solarradiation:161.6', 'weathertype:\"Fog\"', 'snowdepth:11.14', 'sealevelpressure:1023.9', 'snow:0.58', 'dew:6.4', 'humidity:61.67', 'precipcover:0.0', 'wgust:21.9', 'conditions:\"Snow\"', 'windchill:-2.3', 'info:null}', '{\"wdir\":305.25', 'temp:19.2', 'maxt:25.3', 'visibility:9.9', 'wspd:11.6', 'datetimeStr:\"2021-02-11T00:00:00-05:00\"', 'solarenergy:15.9', 'heatindex:null', 'cloudcover:32.8', 'mint:10.7', 'datetime:1613001600000', 'precip:0.0', 'solarradiation:368.6', 'weathertype:\"\"', 'snowdepth:9.73', 'sealevelpressure:1022.9', 'snow:0.0', 'dew:1.6', 'humidity:46.09', 'precipcover:0.0', 'wgust:32.2', 'conditions:\"Partially cloudy\"', 'windchill:-0.1', 'info:null}', '{\"wdir\":298.46', 'temp:15.8', 'maxt:21.1', 'visibility:9.9', 'wspd:8.4', 'datetimeStr:\"2021-02-12T00:00:00-05:00\"', 'solarenergy:9.1', 'heatindex:null', 'cloudcover:26.2', 'mint:8.2', 'datetime:1613088000000', 'precip:0.0', 'solarradiation:211.7', 'weathertype:\"\"', 'snowdepth:9.42', 'sealevelpressure:1024.7', 'snow:0.0', 'dew:-5.5', 'humidity:37.92', 'precipcover:0.0', 'wgust:20.8', 'conditions:\"Partially cloudy\"', 'windchill:-2.1', 'info:null}', '{\"wdir\":161.79', 'temp:21.5', 'maxt:25.5', 'visibility:9.9', 'wspd:4.3', 'datetimeStr:\"2021-02-13T00:00:00-05:00\"', 'solarenergy:5.2', 'heatindex:null', 'cloudcover:30.4', 'mint:13.2', 'datetime:1613174400000', 'precip:0.0', 'solarradiation:239.2', 'weathertype:\"\"', 'snowdepth:9.33', 'sealevelpressure:1026.1', 'snow:0.0', 'dew:0.2', 'humidity:39.41', 'precipcover:0.0', 'wgust:null', 'conditions:\"Partially cloudy\"', 'windchill:6.4', 'info:null}', '{\"wdir\":243.54', 'temp:27.3', 'maxt:31.6', 'visibility:9.9', 'wspd:4.9', 'datetimeStr:\"2021-02-14T00:00:00-05:00\"', 'solarenergy:5.5', 'heatindex:null', 'cloudcover:53.2', 'mint:23.4', 'datetime:1613260800000', 'precip:0.0', 'solarradiation:126.7', 'weathertype:\"\"', 'snowdepth:6.17', 'sealevelpressure:1024.1', 'snow:0.0', 'dew:13.2', 'humidity:55.25', 'precipcover:0.0', 'wgust:null', 'conditions:\"Partially cloudy\"', 'windchill:17.5', 'info:null}', '{\"wdir\":95.79', 'temp:26.7', 'maxt:28.8', 'visibility:8.5', 'wspd:5.4', 'datetimeStr:\"2021-02-15T00:00:00-05:00\"', 'solarenergy:3.4', 'heatindex:null', 'cloudcover:64.6', 'mint:23.9', 'datetime:1613347200000', 'precip:0.06', 'solarradiation:79.7', 'weathertype:\"Light Snow', ' Mist', ' Light Drizzle', ' Rain', ' Light Rain', ' Light Freezing Drizzle/Freezing Rain', ' Light Freezing Rain\"', 'snowdepth:9.23', 'sealevelpressure:1023.2', 'snow:3.32', 'dew:17.8', 'humidity:69.33', 'precipcover:29.17', 'wgust:null', 'conditions:\"Snow', ' Partially cloudy\"', 'windchill:18.8', 'info:null}', '{\"wdir\":219.54', 'temp:31.8', 'maxt:34.7', 'visibility:4.8', 'wspd:10.8', 'datetimeStr:\"2021-02-16T00:00:00-05:00\"', 'solarenergy:2.6', 'heatindex:null', 'cloudcover:58.5', 'mint:25.8', 'datetime:1613433600000', 'precip:0.77', 'solarradiation:64.7', 'weathertype:\"Mist', ' Light Drizzle', ' Rain', ' Fog', ' Heavy Rain', ' Light Rain', ' Light Freezing Rain\"', 'snowdepth:9.13', 'sealevelpressure:1005.5', 'snow:0.97', 'dew:28.8', 'humidity:88.56', 'precipcover:50.0', 'wgust:23.0', 'conditions:\"Snow', ' Partially cloudy\"', 'windchill:15.9', 'info:null}', '{\"wdir\":295.92', 'temp:21.2', 'maxt:25.0', 'visibility:9.9', 'wspd:11.5', 'datetimeStr:\"2021-02-17T00:00:00-05:00\"', 'solarenergy:12.6', 'heatindex:null', 'cloudcover:9.1', 'mint:17.8', 'datetime:1613520000000', 'precip:0.0', 'solarradiation:292.5', 'weathertype:\"\"', 'snowdepth:7.29', 'sealevelpressure:1024.2', 'snow:0.0', 'dew:8.1', 'humidity:56.93', 'precipcover:0.0', 'wgust:30.0', 'conditions:\"Clear\"', 'windchill:8.5', 'info:null}', '{\"wdir\":124.96', 'temp:23.6', 'maxt:26.0', 'visibility:9.7', 'wspd:5.7', 'datetimeStr:\"2021-02-18T00:00:00-05:00\"', 'solarenergy:5.7', 'heatindex:null', 'cloudcover:64.0', 'mint:18.6', 'datetime:1613606400000', 'precip:0.0', 'solarradiation:132.2', 'weathertype:\"Light Snow\"', 'snowdepth:5.61', 'sealevelpressure:1030.2', 'snow:0.49', 'dew:12.3', 'humidity:61.8', 'precipcover:8.33', 'wgust:null', 'conditions:\"Snow', ' Partially cloudy\"', 'windchill:15.7', 'info:null}', '{\"wdir\":139.54', 'temp:24.5', 'maxt:26.3', 'visibility:4.3', 'wspd:7.8', 'datetimeStr:\"2021-02-19T00:00:00-05:00\"', 'solarenergy:3.1', 'heatindex:null', 'cloudcover:69.4', 'mint:22.4', 'datetime:1613692800000', 'precip:0.13', 'solarradiation:72.1', 'weathertype:\"Light Snow', ' Mist\"', 'snowdepth:10.34', 'sealevelpressure:1021.0', 'snow:4.73', 'dew:19.9', 'humidity:82.27', 'precipcover:83.33', 'wgust:null', 'conditions:\"Snow', ' Partially cloudy\"', 'windchill:14.8', 'info:null}', '{\"wdir\":311.5', 'temp:24.5', 'maxt:29.0', 'visibility:9.7', 'wspd:11.3', 'datetimeStr:\"2021-02-20T00:00:00-05:00\"', 'solarenergy:9.5', 'heatindex:null', 'cloudcover:37.5', 'mint:18.2', 'datetime:1613779200000', 'precip:0.0', 'solarradiation:219.9', 'weathertype:\"Light Snow\"', 'snowdepth:11.0', 'sealevelpressure:1016.3', 'snow:0.66', 'dew:13.4', 'humidity:63.11', 'precipcover:4.17', 'wgust:26.4', 'conditions:\"Snow', ' Partially cloudy\"', 'windchill:9.4', 'info:null}', '{\"wdir\":284.75', 'temp:22.8', 'maxt:31.2', 'visibility:9.9', 'wspd:8.9', 'datetimeStr:\"2021-02-21T00:00:00-05:00\"', 'solarenergy:14.7', 'heatindex:null', 'cloudcover:3.3', 'mint:15.3', 'datetime:1613865600000', 'precip:0.0', 'solarradiation:339.9', 'weathertype:\"\"', 'snowdepth:8.27', 'sealevelpressure:1028.2', 'snow:0.0', 'dew:8.0', 'humidity:53.69', 'precipcover:0.0', 'wgust:19.7', 'conditions:\"Clear\"', 'windchill:7.4', 'info:null}', '{\"wdir\":194.42', 'temp:27.8', 'maxt:34.3', 'visibility:7.1', 'wspd:7.9', 'datetimeStr:\"2021-02-22T00:00:00-05:00\"', 'solarenergy:4.1', 'heatindex:null', 'cloudcover:48.0', 'mint:14.4', 'datetime:1613952000000', 'precip:0.29', 'solarradiation:95.8', 'weathertype:\"Light Snow', ' Mist', ' Fog', ' Light Rain', ' Snow\"', 'snowdepth:8.22', 'sealevelpressure:1013.9', 'snow:0.74', 'dew:21.3', 'humidity:77.26', 'precipcover:50.0', 'wgust:21.9', 'conditions:\"Snow', ' Partially cloudy\"', 'windchill:22.5', 'info:null}', '{\"wdir\":290.63', 'temp:35.4', 'maxt:40.8', 'visibility:9.9', 'wspd:4.8', 'datetimeStr:\"2021-02-23T00:00:00-05:00\"', 'solarenergy:10.2', 'heatindex:null', 'cloudcover:43.2', 'mint:28.6', 'datetime:1614038400000', 'precip:0.0', 'solarradiation:217.6', 'weathertype:\"\"', 'snowdepth:8.66', 'sealevelpressure:1001.1', 'snow:0.44', 'dew:28.5', 'humidity:76.52', 'precipcover:0.0', 'wgust:null', 'conditions:\"Snow', ' Partially cloudy\"', 'windchill:24.5', 'info:null}', '{\"wdir\":229.29', 'temp:41.9', 'maxt:46.7', 'visibility:9.9', 'wspd:8.7', 'datetimeStr:\"2021-02-24T00:00:00-05:00\"', 'solarenergy:11.5', 'heatindex:null', 'cloudcover:35.2', 'mint:31.5', 'datetime:1614124800000', 'precip:0.0', 'solarradiation:267.1', 'weathertype:\"Light Rain\"', 'snowdepth:7.61', 'sealevelpressure:1007.7', 'snow:0.0', 'dew:25.9', 'humidity:54.43', 'precipcover:0.0', 'wgust:19.7', 'conditions:\"Partially cloudy\"', 'windchill:27.3', 'info:null}', '{\"wdir\":296.63', 'temp:35.6', 'maxt:43.7', 'visibility:9.9', 'wspd:16.3', 'datetimeStr:\"2021-02-25T00:00:00-05:00\"', 'solarenergy:12.5', 'heatindex:null', 'cloudcover:19.0', 'mint:24.8', 'datetime:1614211200000', 'precip:0.0', 'solarradiation:267.2', 'weathertype:\"\"', 'snowdepth:6.3', 'sealevelpressure:1013.6', 'snow:0.0', 'dew:14.9', 'humidity:42.82', 'precipcover:0.0', 'wgust:35.8', 'conditions:\"Clear\"', 'windchill:18.8', 'info:null}', '{\"wdir\":242.25', 'temp:28.0', 'maxt:34.0', 'visibility:9.9', 'wspd:8.8', 'datetimeStr:\"2021-02-26T00:00:00-05:00\"', 'solarenergy:16.2', 'heatindex:null', 'cloudcover:5.6', 'mint:23.3', 'datetime:1614297600000', 'precip:0.0', 'solarradiation:375.6', 'weathertype:\"\"', 'snowdepth:5.38', 'sealevelpressure:1029.4', 'snow:0.0', 'dew:9.8', 'humidity:47.73', 'precipcover:0.0', 'wgust:23.0', 'conditions:\"Clear\"', 'windchill:16.1', 'info:null}', '{\"wdir\":162.17', 'temp:33.2', 'maxt:37.7', 'visibility:5.9', 'wspd:8.4', 'datetimeStr:\"2021-02-27T00:00:00-05:00\"', 'solarenergy:1.7', 'heatindex:null', 'cloudcover:37.1', 'mint:23.6', 'datetime:1614384000000', 'precip:0.45', 'solarradiation:35.7', 'weathertype:\"Mist', ' Light Snow', ' Fog', ' Light Rain', ' Snow\"', 'snowdepth:5.61', 'sealevelpressure:1021.4', 'snow:0.49', 'dew:29.8', 'humidity:87.23', 'precipcover:58.33', 'wgust:null', 'conditions:\"Snow', ' Partially cloudy\"', 'windchill:24.9', 'info:null}', '{\"wdir\":180.29', 'temp:38.3', 'maxt:41.9', 'visibility:9.3', 'wspd:6.3', 'datetimeStr:\"2021-02-28T00:00:00-05:00\"', 'solarenergy:7.3', 'heatindex:null', 'cloudcover:34.5', 'mint:34.1', 'datetime:1614470400000', 'precip:0.07', 'solarradiation:169.9', 'weathertype:\"Mist', ' Light Drizzle', ' Rain', ' Light Rain\"', 'snowdepth:6.09', 'sealevelpressure:1021.5', 'snow:0.48', 'dew:29.8', 'humidity:71.74', 'precipcover:12.5', 'wgust:18.3', 'conditions:\"Snow', ' Partially cloudy\"', 'windchill:29.3', 'info:null}', '{\"wdir\":233.17', 'temp:35.1', 'maxt:42.0', 'visibility:6.4', 'wspd:18.4', 'datetimeStr:\"2021-03-01T00:00:00-05:00\"', 'solarenergy:3.1', 'heatindex:null', 'cloudcover:48.2', 'mint:16.7', 'datetime:1614556800000', 'precip:0.41', 'solarradiation:66.2', 'weathertype:\"Mist', ' Light Snow', ' Rain', ' Fog', ' Heavy Rain', ' Light Rain\"', 'snowdepth:5.46', 'sealevelpressure:1001.2', 'snow:0.0', 'dew:27.6', 'humidity:75.7', 'precipcover:54.17', 'wgust:49.1', 'conditions:\"Rain', ' Partially cloudy\"', 'windchill:1.2', 'info:null}', '{\"wdir\":288.63', 'temp:17.2', 'maxt:21.8', 'visibility:9.7', 'wspd:21.4', 'datetimeStr:\"2021-03-02T00:00:00-05:00\"', 'solarenergy:17.5', 'heatindex:null', 'cloudcover:7.8', 'mint:9.3', 'datetime:1614643200000', 'precip:0.0', 'solarradiation:373.8', 'weathertype:\"\"', 'snowdepth:4.38', 'sealevelpressure:1009.7', 'snow:0.0', 'dew:-6.3', 'humidity:34.78', 'precipcover:0.0', 'wgust:50.8', 'conditions:\"Clear\"', 'windchill:-9.7', 'info:null}', '{\"wdir\":286.21', 'temp:31.6', 'maxt:38.3', 'visibility:9.9', 'wspd:9.5', 'datetimeStr:\"2021-03-03T00:00:00-05:00\"', 'solarenergy:15.0', 'heatindex:null', 'cloudcover:37.2', 'mint:19.3', 'datetime:1614729600000', 'precip:0.0', 'solarradiation:321.3', 'weathertype:\"\"', 'snowdepth:3.94', 'sealevelpressure:1008.2', 'snow:0.0', 'dew:15.6', 'humidity:51.31', 'precipcover:0.0', 'wgust:21.9', 'conditions:\"Partially cloudy\"', 'windchill:12.1', 'info:null}', '{\"wdir\":299.25', 'temp:28.1', 'maxt:33.2', 'visibility:9.9', 'wspd:16.9', 'datetimeStr:\"2021-03-04T00:00:00-05:00\"', 'solarenergy:17.4', 'heatindex:null', 'cloudcover:16.6', 'mint:18.8', 'datetime:1614816000000', 'precip:0.0', 'solarradiation:370.9', 'weathertype:\"\"', 'snowdepth:3.67', 'sealevelpressure:1003.8', 'snow:0.0', 'dew:8.5', 'humidity:43.97', 'precipcover:0.0', 'wgust:35.1', 'conditions:\"Clear\"', 'windchill:5.5', 'info:null}', '{\"wdir\":298.71', 'temp:21.1', 'maxt:25.9', 'visibility:9.9', 'wspd:15.3', 'datetimeStr:\"2021-03-05T00:00:00-05:00\"', 'solarenergy:11.7', 'heatindex:null', 'cloudcover:36.2', 'mint:16.1', 'datetime:1614902400000', 'precip:0.0', 'solarradiation:251.0', 'weathertype:\"\"', 'snowdepth:3.54', 'sealevelpressure:1005.6', 'snow:0.0', 'dew:-0.3', 'humidity:39.21', 'precipcover:0.0', 'wgust:32.3', 'conditions:\"Partially cloudy\"', 'windchill:4.6', 'info:null}', '{\"wdir\":297.46', 'temp:23.2', 'maxt:29.2', 'visibility:9.9', 'wspd:11.1', 'datetimeStr:\"2021-03-06T00:00:00-05:00\"', 'solarenergy:18.0', 'heatindex:null', 'cloudcover:15.2', 'mint:15.0', 'datetime:1614988800000', 'precip:0.0', 'solarradiation:385.4', 'weathertype:\"\"', 'snowdepth:3.54', 'sealevelpressure:1014.6', 'snow:0.0', 'dew:3.7', 'humidity:42.71', 'precipcover:0.0', 'wgust:21.9', 'conditions:\"Clear\"', 'windchill:4.0', 'info:null}', '{\"wdir\":295.58', 'temp:24.8', 'maxt:34.1', 'visibility:9.9', 'wspd:8.3', 'datetimeStr:\"2021-03-07T00:00:00-05:00\"', 'solarenergy:19.1', 'heatindex:null', 'cloudcover:2.4', 'mint:14.8', 'datetime:1615075200000', 'precip:0.0', 'solarradiation:407.1', 'weathertype:\"\"', 'snowdepth:3.28', 'sealevelpressure:1023.3', 'snow:0.0', 'dew:5.6', 'humidity:44.28', 'precipcover:0.0', 'wgust:null', 'conditions:\"Clear\"', 'windchill:8.5', 'info:null}', '{\"wdir\":221.5', 'temp:27.6', 'maxt:37.6', 'visibility:9.9', 'wspd:6.1', 'datetimeStr:\"2021-03-08T00:00:00-05:00\"', 'solarenergy:18.1', 'heatindex:null', 'cloudcover:11.6', 'mint:16.9', 'datetime:1615161600000', 'precip:0.0', 'solarradiation:387.6', 'weathertype:\"\"', 'snowdepth:3.15', 'sealevelpressure:1026.7', 'snow:0.0', 'dew:8.6', 'humidity:45.99', 'precipcover:0.0', 'wgust:null', 'conditions:\"Clear\"', 'windchill:9.3', 'info:null}]', 'id:\"43.232212', '-70.829685\"', 'address:\"43.232212', '-70.829685\"', 'name:\"43.232212', '-70.829685\"', 'index:0', 'latitude:43.232212', 'longitude:-70.829685', 'distance:0.0', 'time:0.0', 'tz:\"America/New_York\"', 'currentConditions:null', 'alerts:null}}}']\n"
     ]
    }
   ],
   "source": [
    "# # If there are no CSV rows then something fundamental went wrong\n",
    "# if RowIndex == 0:\n",
    "#     print('Sorry, but it appears that there was an error connecting to the weather server.')\n",
    "#     print('Please check your network connection and try again..')\n",
    "\n",
    "# # If there is only one CSV  row then we likely got an error from the server\n",
    "# if RowIndex == 1:\n",
    "#     print('Sorry, but it appears that there was an error retrieving the weather data.')\n",
    "#     print('Error: ', FirstRow)"
   ]
  },
  {
   "cell_type": "code",
   "execution_count": 9,
   "metadata": {},
   "outputs": [],
   "source": [
    "weather_cols = ['Address','Date time','Minimum Temperature','Maximum Temperature','Temperature','Dew Point',\n",
    "                'Relative Humidity','Heat Index','Wind Speed','Wind Gust','Wind Direction','Wind Chill',\n",
    "                'Precipitation','Precipitation Cover','Snow Depth','Visibility','Cloud Cover','Sea Level Pressure',\n",
    "                'Weather Type','Latitude','Longitude','Resolved Address','Name','Info','Conditions']"
   ]
  },
  {
   "cell_type": "code",
   "execution_count": null,
   "metadata": {},
   "outputs": [],
   "source": []
  }
 ],
 "metadata": {
  "kernelspec": {
   "display_name": "Python 3",
   "language": "python",
   "name": "python3"
  },
  "language_info": {
   "codemirror_mode": {
    "name": "ipython",
    "version": 3
   },
   "file_extension": ".py",
   "mimetype": "text/x-python",
   "name": "python",
   "nbconvert_exporter": "python",
   "pygments_lexer": "ipython3",
   "version": "3.8.3"
  }
 },
 "nbformat": 4,
 "nbformat_minor": 4
}
